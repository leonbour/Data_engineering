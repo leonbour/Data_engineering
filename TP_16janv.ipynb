{
 "cells": [
  {
   "cell_type": "code",
   "execution_count": 1,
   "metadata": {},
   "outputs": [],
   "source": [
    "#Importation\n",
    "import pandas as pd\n",
    "import numpy as np\n",
    "\n",
    "from pyspark.sql import SparkSession\n",
    "from pyspark.sql import functions as F\n",
    "\n",
    "#Intanciation\n",
    "spark = SparkSession.builder.master(\"local\").appName(\"FolksDF\").getOrCreate()"
   ]
  },
  {
   "cell_type": "code",
   "execution_count": 2,
   "metadata": {},
   "outputs": [
    {
     "name": "stdout",
     "output_type": "stream",
     "text": [
      "+----------+------------------+------------------+------------------+------------------+--------+------------------+\n",
      "|      Date|              Open|              High|               Low|             Close|  Volume|         Adj Close|\n",
      "+----------+------------------+------------------+------------------+------------------+--------+------------------+\n",
      "|2012-01-03|         59.970001|         61.060001|         59.869999|         60.330002|12668800|52.619234999999996|\n",
      "|2012-01-04|60.209998999999996|         60.349998|         59.470001|59.709998999999996| 9593300|         52.078475|\n",
      "|2012-01-05|         59.349998|         59.619999|         58.369999|         59.419998|12768200|         51.825539|\n",
      "|2012-01-06|         59.419998|         59.450001|         58.869999|              59.0| 8069400|          51.45922|\n",
      "|2012-01-09|         59.029999|         59.549999|         58.919998|             59.18| 6679300|51.616215000000004|\n",
      "|2012-01-10|             59.43|59.709998999999996|             58.98|59.040001000000004| 6907300|         51.494109|\n",
      "|2012-01-11|         59.060001|         59.529999|59.040001000000004|         59.400002| 6365600|         51.808098|\n",
      "|2012-01-12|59.790001000000004|              60.0|         59.400002|              59.5| 7236400|51.895315999999994|\n",
      "|2012-01-13|             59.18|59.610001000000004|59.009997999999996|59.540001000000004| 7729300|51.930203999999996|\n",
      "|2012-01-17|         59.869999|60.110001000000004|             59.52|         59.849998| 8500000|         52.200581|\n",
      "|2012-01-18|59.790001000000004|         60.029999|         59.650002|60.009997999999996| 5911400|         52.340131|\n",
      "|2012-01-19|             59.93|             60.73|             59.75|60.610001000000004| 9234600|         52.863447|\n",
      "|2012-01-20|             60.75|             61.25|         60.669998|61.009997999999996|10378800|53.212320999999996|\n",
      "|2012-01-23|         60.810001|             60.98|60.509997999999996|             60.91| 7134100|         53.125104|\n",
      "|2012-01-24|             60.75|              62.0|             60.75|61.389998999999996| 7362800| 53.54375400000001|\n",
      "|2012-01-25|             61.18|61.610001000000004|61.040001000000004|         61.470001| 5915800| 53.61353100000001|\n",
      "|2012-01-26|         61.799999|             61.84|             60.77|         60.970001| 7436200|         53.177436|\n",
      "|2012-01-27|60.860001000000004|         61.119999|60.540001000000004|60.709998999999996| 6287300|         52.950665|\n",
      "|2012-01-30|         60.470001|             61.32|         60.349998|         61.299999| 7636900|53.465256999999994|\n",
      "|2012-01-31|         61.529999|             61.57|         60.580002|61.360001000000004| 9761500|53.517590000000006|\n",
      "+----------+------------------+------------------+------------------+------------------+--------+------------------+\n",
      "only showing top 20 rows\n",
      "\n"
     ]
    }
   ],
   "source": [
    "#Importation des fichiers\n",
    "Walmart = spark.read.option(\"header\", 'true').option(\"delimiter\", \",\").csv(\"walmart_stock.csv\")\n",
    "Walmart.show()"
   ]
  },
  {
   "cell_type": "code",
   "execution_count": 3,
   "metadata": {},
   "outputs": [
    {
     "data": {
      "text/plain": [
       "['Date', 'Open', 'High', 'Low', 'Close', 'Volume', 'Adj Close']"
      ]
     },
     "execution_count": 3,
     "metadata": {},
     "output_type": "execute_result"
    }
   ],
   "source": [
    "#Afficher les colonnes\n",
    "Walmart.columns"
   ]
  },
  {
   "cell_type": "code",
   "execution_count": 4,
   "metadata": {},
   "outputs": [
    {
     "name": "stdout",
     "output_type": "stream",
     "text": [
      "root\n",
      " |-- Date: string (nullable = true)\n",
      " |-- Open: string (nullable = true)\n",
      " |-- High: string (nullable = true)\n",
      " |-- Low: string (nullable = true)\n",
      " |-- Close: string (nullable = true)\n",
      " |-- Volume: string (nullable = true)\n",
      " |-- Adj Close: string (nullable = true)\n",
      "\n"
     ]
    }
   ],
   "source": [
    "#Le schéma\n",
    "Walmart.printSchema()\n",
    "#nullable = true : autorise les valeurs nulles"
   ]
  },
  {
   "cell_type": "code",
   "execution_count": 10,
   "metadata": {},
   "outputs": [
    {
     "name": "stdout",
     "output_type": "stream",
     "text": [
      "+----------+------------------+---------+---------+------------------+--------+------------------+--------------------+\n",
      "|      Date|              Open|     High|      Low|             Close|  Volume|         Adj Close|            HV_Ratio|\n",
      "+----------+------------------+---------+---------+------------------+--------+------------------+--------------------+\n",
      "|2012-01-03|         59.970001|61.060001|59.869999|         60.330002|12668800|52.619234999999996|4.819714653321546E-6|\n",
      "|2012-01-04|60.209998999999996|60.349998|59.470001|59.709998999999996| 9593300|         52.078475|6.290848613094555E-6|\n",
      "|2012-01-05|         59.349998|59.619999|58.369999|         59.419998|12768200|         51.825539|4.669412994783916E-6|\n",
      "|2012-01-06|         59.419998|59.450001|58.869999|              59.0| 8069400|          51.45922|7.367338463826307E-6|\n",
      "|2012-01-09|         59.029999|59.549999|58.919998|             59.18| 6679300|51.616215000000004|8.915604778943901E-6|\n",
      "+----------+------------------+---------+---------+------------------+--------+------------------+--------------------+\n",
      "only showing top 5 rows\n",
      "\n"
     ]
    }
   ],
   "source": [
    "#Créer une nvlle colonne HV_Ratio, division de High_Price par Volume\n",
    "Walmart2 = Walmart.withColumn(\"HV_Ratio\", F.col(\"High\")/F.col(\"Volume\"))\n",
    "Walmart2.show(5)"
   ]
  },
  {
   "cell_type": "code",
   "execution_count": 15,
   "metadata": {},
   "outputs": [
    {
     "name": "stdout",
     "output_type": "stream",
     "text": [
      "+----------+\n",
      "|      Date|\n",
      "+----------+\n",
      "|2015-01-13|\n",
      "+----------+\n",
      "\n"
     ]
    }
   ],
   "source": [
    "#Quel jour a eu le Peak High in \"Price\" ?\n",
    "Walmart2.createOrReplaceTempView(\"WalmartSQL\")\n",
    "#transformation du dataframe en table !\n",
    "\n",
    "#spark.sql(\"\"\"select Date from WalmartSQL order by High desc\"\"\").first() #solution 1\n",
    "spark.sql(\"\"\"select Date from WalmartSQL order by High desc limit 1\"\"\").show() #solution 2"
   ]
  },
  {
   "cell_type": "code",
   "execution_count": 18,
   "metadata": {},
   "outputs": [
    {
     "data": {
      "text/plain": [
       "Row(Date='2015-01-13')"
      ]
     },
     "execution_count": 18,
     "metadata": {},
     "output_type": "execute_result"
    }
   ],
   "source": [
    "#DSL en Spark\n",
    "Walmart2.select(F.col(\"Date\")) \\\n",
    "        .orderBy(F.col(\"High\").desc()) \\\n",
    "        .head()"
   ]
  },
  {
   "cell_type": "code",
   "execution_count": 19,
   "metadata": {},
   "outputs": [
    {
     "name": "stdout",
     "output_type": "stream",
     "text": [
      "+--------------------------+\n",
      "|avg(CAST(Close AS DOUBLE))|\n",
      "+--------------------------+\n",
      "|         72.38844998012726|\n",
      "+--------------------------+\n",
      "\n"
     ]
    }
   ],
   "source": [
    "#Moyenne de la colonne Close\n",
    "#SQL\n",
    "spark.sql(\"\"\"select mean(Close) as Moyenne from WalmartSQL\"\"\").show()"
   ]
  },
  {
   "cell_type": "code",
   "execution_count": 20,
   "metadata": {},
   "outputs": [
    {
     "name": "stdout",
     "output_type": "stream",
     "text": [
      "+-------+-----------------+\n",
      "|summary|            Close|\n",
      "+-------+-----------------+\n",
      "|   mean|72.38844998012726|\n",
      "+-------+-----------------+\n",
      "\n"
     ]
    }
   ],
   "source": [
    "#DSL\n",
    "Walmart2.select(\"Close\") \\\n",
    "        .summary(\"mean\") \\\n",
    "        .show()"
   ]
  },
  {
   "cell_type": "code",
   "execution_count": 21,
   "metadata": {},
   "outputs": [
    {
     "name": "stdout",
     "output_type": "stream",
     "text": [
      "+-----------------+\n",
      "|          Moyenne|\n",
      "+-----------------+\n",
      "|72.38844998012726|\n",
      "+-----------------+\n",
      "\n"
     ]
    }
   ],
   "source": [
    "#2eme solution\n",
    "Walmart2.agg(F.mean(\"Close\").alias(\"Moyenne\")).show()"
   ]
  },
  {
   "cell_type": "code",
   "execution_count": 22,
   "metadata": {},
   "outputs": [
    {
     "name": "stdout",
     "output_type": "stream",
     "text": [
      "+-----------+-----------+\n",
      "|max(Volume)|min(Volume)|\n",
      "+-----------+-----------+\n",
      "|    9994400|   10010500|\n",
      "+-----------+-----------+\n",
      "\n"
     ]
    }
   ],
   "source": [
    "#Quelles sont les valeurs max et min de Colonne ?\n",
    "#SQL\n",
    "spark.sql(\"\"\"select max(Volume), min(Volume) from WalmartSQL\"\"\").show()"
   ]
  },
  {
   "cell_type": "code",
   "execution_count": 25,
   "metadata": {},
   "outputs": [
    {
     "name": "stdout",
     "output_type": "stream",
     "text": [
      "+-----------+-----------+\n",
      "|max(Volume)|min(Volume)|\n",
      "+-----------+-----------+\n",
      "|    9994400|   10010500|\n",
      "+-----------+-----------+\n",
      "\n"
     ]
    }
   ],
   "source": [
    "#DSL\n",
    "Walmart2.agg(F.max(\"Volume\"), F.min(\"Volume\")) \\\n",
    "        .show()"
   ]
  },
  {
   "cell_type": "code",
   "execution_count": 26,
   "metadata": {},
   "outputs": [
    {
     "name": "stdout",
     "output_type": "stream",
     "text": [
      "+-----------+\n",
      "|count(Date)|\n",
      "+-----------+\n",
      "|         81|\n",
      "+-----------+\n",
      "\n"
     ]
    }
   ],
   "source": [
    "#Combien de jours la val de Close était < à 60$ ?\n",
    "#SQL\n",
    "spark.sql(\"\"\"select count(Date) from WalmartSQL where Close < 60\"\"\").show()"
   ]
  },
  {
   "cell_type": "code",
   "execution_count": 27,
   "metadata": {},
   "outputs": [
    {
     "name": "stdout",
     "output_type": "stream",
     "text": [
      "+-----------+\n",
      "|count(Date)|\n",
      "+-----------+\n",
      "|         81|\n",
      "+-----------+\n",
      "\n"
     ]
    }
   ],
   "source": [
    "#DSL\n",
    "Walmart2.filter(F.col(\"Close\") < '60') \\\n",
    "        .agg(F.count(\"Date\")) \\\n",
    "        .show()\n",
    "#faire l'aggregation avant le filter !"
   ]
  },
  {
   "cell_type": "code",
   "execution_count": 28,
   "metadata": {},
   "outputs": [
    {
     "data": {
      "text/plain": [
       "81"
      ]
     },
     "execution_count": 28,
     "metadata": {},
     "output_type": "execute_result"
    }
   ],
   "source": [
    "#solution 2\n",
    "Walmart2.filter(F.col(\"Close\") < '60') \\\n",
    "        .count()"
   ]
  },
  {
   "cell_type": "code",
   "execution_count": 30,
   "metadata": {},
   "outputs": [
    {
     "name": "stdout",
     "output_type": "stream",
     "text": [
      "+----------+\n",
      "|Percentage|\n",
      "+----------+\n",
      "|      8.43|\n",
      "+----------+\n",
      "\n"
     ]
    }
   ],
   "source": [
    "#Quel est le % de fois ou la val de High était > a 80$ ?\n",
    "spark.sql(\"\"\"select round(\n",
    "                (select count(*) from WalmartSQL\n",
    "                where High>80)\n",
    "                /\n",
    "                (count(*))\n",
    "                * 100\n",
    "                , 2\n",
    "            )\n",
    "as Percentage \n",
    "from WalmartSQL\n",
    "\"\"\").show()\n"
   ]
  },
  {
   "cell_type": "code",
   "execution_count": 33,
   "metadata": {},
   "outputs": [
    {
     "name": "stdout",
     "output_type": "stream",
     "text": [
      "+-----------+\n",
      "|Pourcentage|\n",
      "+-----------+\n",
      "|       9.14|\n",
      "+-----------+\n",
      "\n"
     ]
    }
   ],
   "source": [
    "#DSL\n",
    "Temp = Walmart2.filter(F.col(\"High\") > '80') \\\n",
    "        .agg(F.count(\"*\").alias(\"Comptage\")) \\\n",
    "        .collect()[0][0]\n",
    "\n",
    "Walmart2.agg(F.round((Temp/F.count(\"*\")*100), 2).alias(\"Pourcentage\")) \\\n",
    "        .show()"
   ]
  },
  {
   "cell_type": "code",
   "execution_count": 34,
   "metadata": {},
   "outputs": [
    {
     "name": "stdout",
     "output_type": "stream",
     "text": [
      "+---------+-----+\n",
      "|max(High)|Annee|\n",
      "+---------+-----+\n",
      "|75.190002| 2016|\n",
      "|77.599998| 2012|\n",
      "|88.089996| 2014|\n",
      "|81.370003| 2013|\n",
      "|90.970001| 2015|\n",
      "+---------+-----+\n",
      "\n"
     ]
    }
   ],
   "source": [
    "#Quelle est la val max de High par année ?\n",
    "#SQL\n",
    "spark.sql(\"\"\"select max(High), substr(Date, 1, 4) as Annee from WalmartSQL group by Annee\"\"\").show()"
   ]
  },
  {
   "cell_type": "code",
   "execution_count": 36,
   "metadata": {},
   "outputs": [
    {
     "name": "stdout",
     "output_type": "stream",
     "text": [
      "+----------+-----+\n",
      "|      Date|Annee|\n",
      "+----------+-----+\n",
      "|2012-01-03| 2012|\n",
      "|2012-01-04| 2012|\n",
      "|2012-01-05| 2012|\n",
      "|2012-01-06| 2012|\n",
      "+----------+-----+\n",
      "only showing top 4 rows\n",
      "\n",
      "+-----+---------+\n",
      "|Annee|max(High)|\n",
      "+-----+---------+\n",
      "| 2016|75.190002|\n",
      "| 2012|77.599998|\n",
      "| 2014|88.089996|\n",
      "| 2013|81.370003|\n",
      "| 2015|90.970001|\n",
      "+-----+---------+\n",
      "\n"
     ]
    }
   ],
   "source": [
    "#DSL\n",
    "#Partie 1 : creer une nvlle var Annee qui extrait l'annee depuis la var Date\n",
    "Walmart3 = Walmart2.withColumn(\"Annee\", F.substring(\"Date\", 1, 4))\n",
    "Walmart3.select(\"Date\", \"Annee\").show(4)\n",
    "#Partie 2 : pour chq annee , trouver le max du prix correspondant\n",
    "Walmart3.groupBy(F.col(\"Annee\")) \\\n",
    "        .agg(F.max(\"High\")) \\\n",
    "        .show()"
   ]
  }
 ],
 "metadata": {
  "kernelspec": {
   "display_name": "Python 3",
   "language": "python",
   "name": "python3"
  },
  "language_info": {
   "codemirror_mode": {
    "name": "ipython",
    "version": 3
   },
   "file_extension": ".py",
   "mimetype": "text/x-python",
   "name": "python",
   "nbconvert_exporter": "python",
   "pygments_lexer": "ipython3",
   "version": "3.7.4"
  }
 },
 "nbformat": 4,
 "nbformat_minor": 2
}
