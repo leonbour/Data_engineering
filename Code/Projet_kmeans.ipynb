{
 "cells": [
  {
   "cell_type": "markdown",
   "metadata": {},
   "source": [
    "# SPARK K-MEANS CLUSTERING"
   ]
  },
  {
   "cell_type": "markdown",
   "metadata": {},
   "source": [
    "1) Instancier le client Spark Session"
   ]
  },
  {
   "cell_type": "code",
   "execution_count": null,
   "metadata": {},
   "outputs": [],
   "source": [
    "#1 Importation\n",
    "import pandas as pd\n",
    "import numpy as np\n",
    "import sklearn.metrics as sm\n",
    "import matplotlib.pyplot as plt\n",
    "from sklearn.cluster import KMeans\n",
    "from pyspark.sql import SparkSession\n",
    "from pyspark.sql import functions as F\n",
    "from pyspark.sql import SparkSession\n",
    "from pyspark.sql.functions import *\n",
    "from pyspark.sql.functions import mean, min, max\n",
    "from pyspark.sql.types import IntegerType,DateType,DoubleType\n",
    "import pyspark.sql.functions as F\n",
    "from pyspark.ml.feature import VectorAssembler\n",
    "from pyspark.ml.clustering import KMeans\n",
    "import folium\n",
    "\n",
    "# Instantiation\n",
    "spark = SparkSession.builder.master(\"local\").appName(\"Brisbane\").getOrCreate()"
   ]
  },
  {
   "cell_type": "markdown",
   "metadata": {},
   "source": [
    "2) Créer un fichier properties.conf contenant les informations relatives à vos paramètres du programme en dur"
   ]
  },
  {
   "cell_type": "code",
   "execution_count": 96,
   "metadata": {},
   "outputs": [
    {
     "data": {
      "text/plain": [
       "['properties.conf']"
      ]
     },
     "execution_count": 96,
     "metadata": {},
     "output_type": "execute_result"
    }
   ],
   "source": [
    "import configparser\n",
    "config = configparser.ConfigParser()\n",
    "config.read(\"properties.conf\")"
   ]
  },
  {
   "cell_type": "markdown",
   "metadata": {},
   "source": [
    "Utiliser le fichier de configuration pour récupérer les path"
   ]
  },
  {
   "cell_type": "code",
   "execution_count": 97,
   "metadata": {},
   "outputs": [],
   "source": [
    "path_to_input_data = config['Bristol-City-bike']['Input-data']\n",
    "path_to_output_data = config['Bristol-City-bike']['Output-data']\n",
    "num_partition_kmeans = config['Bristol-City-bike']['Kmeans-level']"
   ]
  },
  {
   "cell_type": "markdown",
   "metadata": {},
   "source": [
    "3) Importer le json avec spark :  bristol = spark.read.json. en utilisant la variable path-to-input-data"
   ]
  },
  {
   "cell_type": "code",
   "execution_count": 114,
   "metadata": {},
   "outputs": [
    {
     "name": "stdout",
     "output_type": "stream",
     "text": [
      "+--------------------+----------+----------+--------------------+------+\n",
      "|             address|  latitude| longitude|                name|number|\n",
      "+--------------------+----------+----------+--------------------+------+\n",
      "|Lower River Tce /...|-27.482279|153.028723|122 - LOWER RIVER...|   122|\n",
      "|Main St / Darragh St| -27.47059|153.036046|91 - MAIN ST / DA...|    91|\n",
      "|Sydney St Ferry T...|-27.474531|153.042728|88 - SYDNEY ST FE...|    88|\n",
      "|Browne St / James St|-27.461881|153.046986|75 - BROWNE ST / ...|    75|\n",
      "|Kurilpa Point / M...|-27.469658|153.016696|98 - KURILPA POIN...|    98|\n",
      "|Montague Rd / Ski...| -27.48172| 153.00436|109 - MONTAGUE RD...|   109|\n",
      "|Macquarie St / Gu...|-27.493626|153.001482|149 - MACQUARIE S...|   149|\n",
      "|Bi-centennial Bik...|-27.476076|153.002459|139 - BI-CENTENNI...|   139|\n",
      "|Sir William McGre...|-27.493963|153.011938|24 - SIR WILLIAM ...|    24|\n",
      "|Vulture St / Trib...|-27.482197|153.020894|117 - VULTURE ST ...|   117|\n",
      "|Lamington St / Re...|-27.465226|153.050864|73 - LAMINGTON ST...|    73|\n",
      "|King George Square 2|-27.468447|153.024662|1101 - KING GEORG...|  1101|\n",
      "| Mary St / George St|-27.473021|153.025988|23 - MARY STREET ...|    23|\n",
      "|McLachlan St / Wi...|-27.457825|153.036866|54 - MCLACHLAN ST...|    54|\n",
      "|       Grey St / QCA| -27.48148| 153.02368|  93 - GREY ST / QCA|    93|\n",
      "| Roma St / Turbot St|-27.467464|153.022094|31 - ROMA ST / TU...|    31|\n",
      "|Thynne Rd / Colle...|-27.499963|153.017633|97 - THYNNE RD / ...|    97|\n",
      "|Sandford St / Bri...|-27.490776|152.994747|147 - SANDFORD ST...|   147|\n",
      "|James St / Harcou...|-27.458199|153.041688|77 - JAMES ST / H...|    77|\n",
      "|Sidon St / Little...|-27.481808|153.025477|119 - SIDON ST / ...|   119|\n",
      "+--------------------+----------+----------+--------------------+------+\n",
      "only showing top 20 rows\n",
      "\n"
     ]
    }
   ],
   "source": [
    "#Importation des données Json\n",
    "brisbane = spark.read.json(path_to_input_data)\n",
    "brisbane.show()"
   ]
  },
  {
   "cell_type": "markdown",
   "metadata": {},
   "source": [
    "4) Création d'un nouveau data frame Kmeans-df contenant seulement les variables latitude et longitude."
   ]
  },
  {
   "cell_type": "code",
   "execution_count": 99,
   "metadata": {},
   "outputs": [
    {
     "name": "stdout",
     "output_type": "stream",
     "text": [
      "+----------+----------+\n",
      "|  latitude| longitude|\n",
      "+----------+----------+\n",
      "|-27.482279|153.028723|\n",
      "| -27.47059|153.036046|\n",
      "|-27.474531|153.042728|\n",
      "|-27.461881|153.046986|\n",
      "|-27.469658|153.016696|\n",
      "| -27.48172| 153.00436|\n",
      "|-27.493626|153.001482|\n",
      "|-27.476076|153.002459|\n",
      "|-27.493963|153.011938|\n",
      "|-27.482197|153.020894|\n",
      "|-27.465226|153.050864|\n",
      "|-27.468447|153.024662|\n",
      "|-27.473021|153.025988|\n",
      "|-27.457825|153.036866|\n",
      "| -27.48148| 153.02368|\n",
      "|-27.467464|153.022094|\n",
      "|-27.499963|153.017633|\n",
      "|-27.490776|152.994747|\n",
      "|-27.458199|153.041688|\n",
      "|-27.481808|153.025477|\n",
      "+----------+----------+\n",
      "only showing top 20 rows\n",
      "\n"
     ]
    }
   ],
   "source": [
    "Kmeansdf = brisbane.select(\"latitude\",\"longitude\")\n",
    "Kmeansdf.show()"
   ]
  },
  {
   "cell_type": "code",
   "execution_count": 100,
   "metadata": {},
   "outputs": [],
   "source": [
    "kmeansdf = brisbane[['latitude', 'longitude']]"
   ]
  },
  {
   "cell_type": "markdown",
   "metadata": {},
   "source": [
    "5) K-Means"
   ]
  },
  {
   "cell_type": "code",
   "execution_count": 101,
   "metadata": {},
   "outputs": [],
   "source": [
    "num_partition_kmeans = int(num_partition_kmeans) \n",
    "features = (\"longitude\", \"latitude\")\n",
    "kmeans = KMeans().setK(num_partition_kmeans).setSeed(1)\n",
    "assembler = VectorAssembler(inputCols = features, outputCol = \"features\")\n",
    "dataset = assembler.transform(Kmeansdf)\n",
    "model = kmeans.fit(dataset)\n",
    "fitted = model.transform(dataset)"
   ]
  },
  {
   "cell_type": "markdown",
   "metadata": {},
   "source": [
    "6) Quelles sont les noms des colonnes de fitted ? Il s’agit bien de longitude, latitude, features et predictions."
   ]
  },
  {
   "cell_type": "code",
   "execution_count": 102,
   "metadata": {},
   "outputs": [
    {
     "name": "stdout",
     "output_type": "stream",
     "text": [
      "+----------+----------+--------------------+----------+\n",
      "|  latitude| longitude|            features|prediction|\n",
      "+----------+----------+--------------------+----------+\n",
      "|-27.482279|153.028723|[153.028723,-27.4...|         2|\n",
      "| -27.47059|153.036046|[153.036046,-27.4...|         2|\n",
      "|-27.474531|153.042728|[153.042728,-27.4...|         1|\n",
      "|-27.461881|153.046986|[153.046986,-27.4...|         1|\n",
      "|-27.469658|153.016696|[153.016696,-27.4...|         2|\n",
      "| -27.48172| 153.00436|[153.00436,-27.48...|         0|\n",
      "|-27.493626|153.001482|[153.001482,-27.4...|         0|\n",
      "|-27.476076|153.002459|[153.002459,-27.4...|         0|\n",
      "|-27.493963|153.011938|[153.011938,-27.4...|         0|\n",
      "|-27.482197|153.020894|[153.020894,-27.4...|         2|\n",
      "|-27.465226|153.050864|[153.050864,-27.4...|         1|\n",
      "|-27.468447|153.024662|[153.024662,-27.4...|         2|\n",
      "|-27.473021|153.025988|[153.025988,-27.4...|         2|\n",
      "|-27.457825|153.036866|[153.036866,-27.4...|         1|\n",
      "| -27.48148| 153.02368|[153.02368,-27.48...|         2|\n",
      "|-27.467464|153.022094|[153.022094,-27.4...|         2|\n",
      "|-27.499963|153.017633|[153.017633,-27.4...|         0|\n",
      "|-27.490776|152.994747|[152.994747,-27.4...|         0|\n",
      "|-27.458199|153.041688|[153.041688,-27.4...|         1|\n",
      "|-27.481808|153.025477|[153.025477,-27.4...|         2|\n",
      "+----------+----------+--------------------+----------+\n",
      "only showing top 20 rows\n",
      "\n"
     ]
    }
   ],
   "source": [
    "fitted.show()"
   ]
  },
  {
   "cell_type": "code",
   "execution_count": 103,
   "metadata": {},
   "outputs": [
    {
     "data": {
      "text/plain": [
       "DataFrame[latitude: double, longitude: double, features: vector, prediction: int]"
      ]
     },
     "execution_count": 103,
     "metadata": {},
     "output_type": "execute_result"
    }
   ],
   "source": [
    "fitted"
   ]
  },
  {
   "cell_type": "code",
   "execution_count": 104,
   "metadata": {},
   "outputs": [
    {
     "data": {
      "text/plain": [
       "['latitude', 'longitude', 'features', 'prediction']"
      ]
     },
     "execution_count": 104,
     "metadata": {},
     "output_type": "execute_result"
    }
   ],
   "source": [
    "fitted.columns #vérification du noms des colonnes de fitted"
   ]
  },
  {
   "cell_type": "code",
   "execution_count": 105,
   "metadata": {},
   "outputs": [
    {
     "name": "stdout",
     "output_type": "stream",
     "text": [
      "+------------------+\n",
      "|  latitude_Moyenne|\n",
      "+------------------+\n",
      "|-27.47130457718122|\n",
      "+------------------+\n",
      "\n",
      "+------------------+\n",
      "| longitude_Moyenne|\n",
      "+------------------+\n",
      "|153.02508301342277|\n",
      "+------------------+\n",
      "\n"
     ]
    }
   ],
   "source": [
    "# SQL\n",
    "brisbane.createOrReplaceTempView(\"brisbaneSQL\") # transformation du data frame en table \n",
    "spark.sql(\"\"\"select mean(latitude) as latitude_Moyenne from brisbaneSQL\"\"\").show()\n",
    "spark.sql(\"\"\"select mean(longitude) as longitude_Moyenne from brisbaneSQL\"\"\").show()\n",
    "\n",
    "#Calcul de la Latitude et Longitude moyenne "
   ]
  },
  {
   "cell_type": "markdown",
   "metadata": {},
   "source": [
    "7) Déterminer les longitudes et latitudes moyennes pour chaque groupe en utilisant spark DSL et SQL. Comparer les résultats"
   ]
  },
  {
   "cell_type": "code",
   "execution_count": 106,
   "metadata": {},
   "outputs": [
    {
     "name": "stdout",
     "output_type": "stream",
     "text": [
      "+-------------------+------------------+----------+\n",
      "|   latitude_Moyenne| longitude_Moyenne|prediction|\n",
      "+-------------------+------------------+----------+\n",
      "|-27.460240636363633|153.04186302272726|         1|\n",
      "| -27.47255990624999|   153.02594553125|         2|\n",
      "|-27.481218536585374|153.00572882926832|         0|\n",
      "+-------------------+------------------+----------+\n",
      "\n"
     ]
    }
   ],
   "source": [
    "#Calcul de la Latitude et Longitude moyenne par groupe de prédiction\n",
    "#Methode SQL\n",
    "\n",
    "fitted.createOrReplaceTempView(\"fittedSQL\") #transformation en table pour faire des requêtes SQL\n",
    "spark.sql(\"\"\"select mean(latitude) as latitude_Moyenne, prediction from fittedSQL group by prediction\"\"\")\n",
    "spark.sql(\"\"\"select mean(longitude) as longitude_Moyenne, prediction from fittedSQL group by prediction\"\"\")\n",
    "spark.sql(\"\"\"select mean(latitude) as latitude_Moyenne, mean(longitude) as longitude_Moyenne, prediction from fittedSQL group by prediction\"\"\").show()"
   ]
  },
  {
   "cell_type": "code",
   "execution_count": 107,
   "metadata": {},
   "outputs": [
    {
     "name": "stdout",
     "output_type": "stream",
     "text": [
      "+----------+-------------------+------------------+\n",
      "|Prediction|   Moyenne_Latitude| Moyenne_Longitude|\n",
      "+----------+-------------------+------------------+\n",
      "|         1|-27.460240636363633|153.04186302272726|\n",
      "|         2| -27.47255990624999|   153.02594553125|\n",
      "|         0|-27.481218536585374|153.00572882926832|\n",
      "+----------+-------------------+------------------+\n",
      "\n"
     ]
    }
   ],
   "source": [
    "#Méthode DSL\n",
    "\n",
    "fitted.groupby(col(\"prediction\").alias(\"Prediction\"))\\\n",
    "    .agg(mean(col(\"latitude\")).alias(\"Moyenne_Latitude\"), mean(col(\"longitude\")).alias(\"Moyenne_Longitude\"))\\\n",
    "    .show()"
   ]
  },
  {
   "cell_type": "markdown",
   "metadata": {},
   "source": [
    "Nous trouvons bien les mêmes résultats avec les deux méthodes (DSL et SQL)."
   ]
  },
  {
   "cell_type": "code",
   "execution_count": 108,
   "metadata": {},
   "outputs": [
    {
     "name": "stdout",
     "output_type": "stream",
     "text": [
      "+-------------------+------------------+----------+\n",
      "|   latitude_Moyenne| longitude_Moyenne|prediction|\n",
      "+-------------------+------------------+----------+\n",
      "|-27.460240636363633|153.04186302272726|         1|\n",
      "| -27.47255990624999|   153.02594553125|         2|\n",
      "|-27.481218536585374|153.00572882926832|         0|\n",
      "+-------------------+------------------+----------+\n",
      "\n"
     ]
    }
   ],
   "source": [
    "fitted_mean = spark.sql(\"\"\"select mean(latitude) as latitude_Moyenne, mean(longitude) as longitude_Moyenne, prediction from fittedSQL group by prediction\"\"\")\n",
    "fitted_mean.show()"
   ]
  },
  {
   "cell_type": "markdown",
   "metadata": {},
   "source": [
    "8)  Faire une visualisation dans une Map avec le package leaflet\n",
    "Il s'agit d'une visualisation de la ville de Brisbane en Australie, ainsi que les 3 clusters prédits par les K-Means (la flèche orange correspond à la Prédiction 0, la bleue correspond à la Prédiction 1 et la verte à la 2)"
   ]
  },
  {
   "cell_type": "code",
   "execution_count": 109,
   "metadata": {},
   "outputs": [
    {
     "data": {
      "text/html": [
       "<div style=\"width:100%;\"><div style=\"position:relative;width:100%;height:0;padding-bottom:60%;\"><span style=\"color:#565656\">Make this Notebook Trusted to load map: File -> Trust Notebook</span><iframe src=\"about:blank\" style=\"position:absolute;width:100%;height:100%;left:0;top:0;border:none !important;\" data-html=%3C%21DOCTYPE%20html%3E%0A%3Chead%3E%20%20%20%20%0A%20%20%20%20%3Cmeta%20http-equiv%3D%22content-type%22%20content%3D%22text/html%3B%20charset%3DUTF-8%22%20/%3E%0A%20%20%20%20%0A%20%20%20%20%20%20%20%20%3Cscript%3E%0A%20%20%20%20%20%20%20%20%20%20%20%20L_NO_TOUCH%20%3D%20false%3B%0A%20%20%20%20%20%20%20%20%20%20%20%20L_DISABLE_3D%20%3D%20false%3B%0A%20%20%20%20%20%20%20%20%3C/script%3E%0A%20%20%20%20%0A%20%20%20%20%3Cstyle%3Ehtml%2C%20body%20%7Bwidth%3A%20100%25%3Bheight%3A%20100%25%3Bmargin%3A%200%3Bpadding%3A%200%3B%7D%3C/style%3E%0A%20%20%20%20%3Cstyle%3E%23map%20%7Bposition%3Aabsolute%3Btop%3A0%3Bbottom%3A0%3Bright%3A0%3Bleft%3A0%3B%7D%3C/style%3E%0A%20%20%20%20%3Cscript%20src%3D%22https%3A//cdn.jsdelivr.net/npm/leaflet%401.6.0/dist/leaflet.js%22%3E%3C/script%3E%0A%20%20%20%20%3Cscript%20src%3D%22https%3A//code.jquery.com/jquery-1.12.4.min.js%22%3E%3C/script%3E%0A%20%20%20%20%3Cscript%20src%3D%22https%3A//maxcdn.bootstrapcdn.com/bootstrap/3.2.0/js/bootstrap.min.js%22%3E%3C/script%3E%0A%20%20%20%20%3Cscript%20src%3D%22https%3A//cdnjs.cloudflare.com/ajax/libs/Leaflet.awesome-markers/2.0.2/leaflet.awesome-markers.js%22%3E%3C/script%3E%0A%20%20%20%20%3Clink%20rel%3D%22stylesheet%22%20href%3D%22https%3A//cdn.jsdelivr.net/npm/leaflet%401.6.0/dist/leaflet.css%22/%3E%0A%20%20%20%20%3Clink%20rel%3D%22stylesheet%22%20href%3D%22https%3A//maxcdn.bootstrapcdn.com/bootstrap/3.2.0/css/bootstrap.min.css%22/%3E%0A%20%20%20%20%3Clink%20rel%3D%22stylesheet%22%20href%3D%22https%3A//maxcdn.bootstrapcdn.com/bootstrap/3.2.0/css/bootstrap-theme.min.css%22/%3E%0A%20%20%20%20%3Clink%20rel%3D%22stylesheet%22%20href%3D%22https%3A//maxcdn.bootstrapcdn.com/font-awesome/4.6.3/css/font-awesome.min.css%22/%3E%0A%20%20%20%20%3Clink%20rel%3D%22stylesheet%22%20href%3D%22https%3A//cdnjs.cloudflare.com/ajax/libs/Leaflet.awesome-markers/2.0.2/leaflet.awesome-markers.css%22/%3E%0A%20%20%20%20%3Clink%20rel%3D%22stylesheet%22%20href%3D%22https%3A//cdn.jsdelivr.net/gh/python-visualization/folium/folium/templates/leaflet.awesome.rotate.min.css%22/%3E%0A%20%20%20%20%0A%20%20%20%20%20%20%20%20%20%20%20%20%3Cmeta%20name%3D%22viewport%22%20content%3D%22width%3Ddevice-width%2C%0A%20%20%20%20%20%20%20%20%20%20%20%20%20%20%20%20initial-scale%3D1.0%2C%20maximum-scale%3D1.0%2C%20user-scalable%3Dno%22%20/%3E%0A%20%20%20%20%20%20%20%20%20%20%20%20%3Cstyle%3E%0A%20%20%20%20%20%20%20%20%20%20%20%20%20%20%20%20%23map_02ac37247a52466c8a14aff45e6b9eec%20%7B%0A%20%20%20%20%20%20%20%20%20%20%20%20%20%20%20%20%20%20%20%20position%3A%20relative%3B%0A%20%20%20%20%20%20%20%20%20%20%20%20%20%20%20%20%20%20%20%20width%3A%20100.0%25%3B%0A%20%20%20%20%20%20%20%20%20%20%20%20%20%20%20%20%20%20%20%20height%3A%20100.0%25%3B%0A%20%20%20%20%20%20%20%20%20%20%20%20%20%20%20%20%20%20%20%20left%3A%200.0%25%3B%0A%20%20%20%20%20%20%20%20%20%20%20%20%20%20%20%20%20%20%20%20top%3A%200.0%25%3B%0A%20%20%20%20%20%20%20%20%20%20%20%20%20%20%20%20%7D%0A%20%20%20%20%20%20%20%20%20%20%20%20%3C/style%3E%0A%20%20%20%20%20%20%20%20%0A%3C/head%3E%0A%3Cbody%3E%20%20%20%20%0A%20%20%20%20%0A%20%20%20%20%20%20%20%20%20%20%20%20%3Cdiv%20class%3D%22folium-map%22%20id%3D%22map_02ac37247a52466c8a14aff45e6b9eec%22%20%3E%3C/div%3E%0A%20%20%20%20%20%20%20%20%0A%3C/body%3E%0A%3Cscript%3E%20%20%20%20%0A%20%20%20%20%0A%20%20%20%20%20%20%20%20%20%20%20%20var%20map_02ac37247a52466c8a14aff45e6b9eec%20%3D%20L.map%28%0A%20%20%20%20%20%20%20%20%20%20%20%20%20%20%20%20%22map_02ac37247a52466c8a14aff45e6b9eec%22%2C%0A%20%20%20%20%20%20%20%20%20%20%20%20%20%20%20%20%7B%0A%20%20%20%20%20%20%20%20%20%20%20%20%20%20%20%20%20%20%20%20center%3A%20%5B-27.4710107%2C%20153.0234489%5D%2C%0A%20%20%20%20%20%20%20%20%20%20%20%20%20%20%20%20%20%20%20%20crs%3A%20L.CRS.EPSG3857%2C%0A%20%20%20%20%20%20%20%20%20%20%20%20%20%20%20%20%20%20%20%20zoom%3A%2014.25%2C%0A%20%20%20%20%20%20%20%20%20%20%20%20%20%20%20%20%20%20%20%20zoomControl%3A%20true%2C%0A%20%20%20%20%20%20%20%20%20%20%20%20%20%20%20%20%20%20%20%20preferCanvas%3A%20false%2C%0A%20%20%20%20%20%20%20%20%20%20%20%20%20%20%20%20%7D%0A%20%20%20%20%20%20%20%20%20%20%20%20%29%3B%0A%0A%20%20%20%20%20%20%20%20%20%20%20%20%0A%0A%20%20%20%20%20%20%20%20%0A%20%20%20%20%0A%20%20%20%20%20%20%20%20%20%20%20%20var%20tile_layer_a5cd051b288f4062b49a46feb4aba70d%20%3D%20L.tileLayer%28%0A%20%20%20%20%20%20%20%20%20%20%20%20%20%20%20%20%22https%3A//%7Bs%7D.tile.openstreetmap.org/%7Bz%7D/%7Bx%7D/%7By%7D.png%22%2C%0A%20%20%20%20%20%20%20%20%20%20%20%20%20%20%20%20%7B%22attribution%22%3A%20%22Data%20by%20%5Cu0026copy%3B%20%5Cu003ca%20href%3D%5C%22http%3A//openstreetmap.org%5C%22%5Cu003eOpenStreetMap%5Cu003c/a%5Cu003e%2C%20under%20%5Cu003ca%20href%3D%5C%22http%3A//www.openstreetmap.org/copyright%5C%22%5Cu003eODbL%5Cu003c/a%5Cu003e.%22%2C%20%22detectRetina%22%3A%20false%2C%20%22maxNativeZoom%22%3A%2018%2C%20%22maxZoom%22%3A%2018%2C%20%22minZoom%22%3A%200%2C%20%22noWrap%22%3A%20false%2C%20%22opacity%22%3A%201%2C%20%22subdomains%22%3A%20%22abc%22%2C%20%22tms%22%3A%20false%7D%0A%20%20%20%20%20%20%20%20%20%20%20%20%29.addTo%28map_02ac37247a52466c8a14aff45e6b9eec%29%3B%0A%20%20%20%20%20%20%20%20%0A%20%20%20%20%0A%20%20%20%20%20%20%20%20%20%20%20%20var%20marker_5e83f1b581f34b0a85e5e61f995d302e%20%3D%20L.marker%28%0A%20%20%20%20%20%20%20%20%20%20%20%20%20%20%20%20%5B-27.460240636363633%2C%20153.04186302272726%5D%2C%0A%20%20%20%20%20%20%20%20%20%20%20%20%20%20%20%20%7B%7D%0A%20%20%20%20%20%20%20%20%20%20%20%20%29.addTo%28map_02ac37247a52466c8a14aff45e6b9eec%29%3B%0A%20%20%20%20%20%20%20%20%0A%20%20%20%20%0A%20%20%20%20%20%20%20%20%20%20%20%20var%20icon_f7ba637b687345d88d21fe47c4495cd6%20%3D%20L.AwesomeMarkers.icon%28%0A%20%20%20%20%20%20%20%20%20%20%20%20%20%20%20%20%7B%22extraClasses%22%3A%20%22fa-rotate-0%22%2C%20%22icon%22%3A%20%22info-sign%22%2C%20%22iconColor%22%3A%20%22white%22%2C%20%22markerColor%22%3A%20%22blue%22%2C%20%22prefix%22%3A%20%22glyphicon%22%7D%0A%20%20%20%20%20%20%20%20%20%20%20%20%29%3B%0A%20%20%20%20%20%20%20%20%20%20%20%20marker_5e83f1b581f34b0a85e5e61f995d302e.setIcon%28icon_f7ba637b687345d88d21fe47c4495cd6%29%3B%0A%20%20%20%20%20%20%20%20%0A%20%20%20%20%0A%20%20%20%20%20%20%20%20var%20popup_485bf7e05d804d91a0588286b9f5097b%20%3D%20L.popup%28%7B%22maxWidth%22%3A%20%22100%25%22%7D%29%3B%0A%0A%20%20%20%20%20%20%20%20%0A%20%20%20%20%20%20%20%20%20%20%20%20var%20html_3353c760c36748379cc88052a37b72e7%20%3D%20%24%28%60%3Cdiv%20id%3D%22html_3353c760c36748379cc88052a37b72e7%22%20style%3D%22width%3A%20100.0%25%3B%20height%3A%20100.0%25%3B%22%3EPr%C3%A9diction%201%3C/div%3E%60%29%5B0%5D%3B%0A%20%20%20%20%20%20%20%20%20%20%20%20popup_485bf7e05d804d91a0588286b9f5097b.setContent%28html_3353c760c36748379cc88052a37b72e7%29%3B%0A%20%20%20%20%20%20%20%20%0A%0A%20%20%20%20%20%20%20%20marker_5e83f1b581f34b0a85e5e61f995d302e.bindPopup%28popup_485bf7e05d804d91a0588286b9f5097b%29%0A%20%20%20%20%20%20%20%20%3B%0A%0A%20%20%20%20%20%20%20%20%0A%20%20%20%20%0A%20%20%20%20%0A%20%20%20%20%20%20%20%20%20%20%20%20var%20marker_1a6cb617bc79449d83404cc0998f003b%20%3D%20L.marker%28%0A%20%20%20%20%20%20%20%20%20%20%20%20%20%20%20%20%5B-27.47255990624999%2C%20153.02594553125%5D%2C%0A%20%20%20%20%20%20%20%20%20%20%20%20%20%20%20%20%7B%7D%0A%20%20%20%20%20%20%20%20%20%20%20%20%29.addTo%28map_02ac37247a52466c8a14aff45e6b9eec%29%3B%0A%20%20%20%20%20%20%20%20%0A%20%20%20%20%0A%20%20%20%20%20%20%20%20%20%20%20%20var%20icon_675ba973f40d464ab2fb8ee86d4ea620%20%3D%20L.AwesomeMarkers.icon%28%0A%20%20%20%20%20%20%20%20%20%20%20%20%20%20%20%20%7B%22extraClasses%22%3A%20%22fa-rotate-0%22%2C%20%22icon%22%3A%20%22info-sign%22%2C%20%22iconColor%22%3A%20%22white%22%2C%20%22markerColor%22%3A%20%22green%22%2C%20%22prefix%22%3A%20%22glyphicon%22%7D%0A%20%20%20%20%20%20%20%20%20%20%20%20%29%3B%0A%20%20%20%20%20%20%20%20%20%20%20%20marker_1a6cb617bc79449d83404cc0998f003b.setIcon%28icon_675ba973f40d464ab2fb8ee86d4ea620%29%3B%0A%20%20%20%20%20%20%20%20%0A%20%20%20%20%0A%20%20%20%20%20%20%20%20var%20popup_d8f5e1d5e8ed433799a40eeecbe18bee%20%3D%20L.popup%28%7B%22maxWidth%22%3A%20%22100%25%22%7D%29%3B%0A%0A%20%20%20%20%20%20%20%20%0A%20%20%20%20%20%20%20%20%20%20%20%20var%20html_fb8a41278eba42e98b7d9de8a1c83c76%20%3D%20%24%28%60%3Cdiv%20id%3D%22html_fb8a41278eba42e98b7d9de8a1c83c76%22%20style%3D%22width%3A%20100.0%25%3B%20height%3A%20100.0%25%3B%22%3EPr%C3%A9diction%202%3C/div%3E%60%29%5B0%5D%3B%0A%20%20%20%20%20%20%20%20%20%20%20%20popup_d8f5e1d5e8ed433799a40eeecbe18bee.setContent%28html_fb8a41278eba42e98b7d9de8a1c83c76%29%3B%0A%20%20%20%20%20%20%20%20%0A%0A%20%20%20%20%20%20%20%20marker_1a6cb617bc79449d83404cc0998f003b.bindPopup%28popup_d8f5e1d5e8ed433799a40eeecbe18bee%29%0A%20%20%20%20%20%20%20%20%3B%0A%0A%20%20%20%20%20%20%20%20%0A%20%20%20%20%0A%20%20%20%20%0A%20%20%20%20%20%20%20%20%20%20%20%20var%20marker_2a9804619eb4491580998ae3aeb2f470%20%3D%20L.marker%28%0A%20%20%20%20%20%20%20%20%20%20%20%20%20%20%20%20%5B-27.481218536585374%2C%20153.00572882926832%5D%2C%0A%20%20%20%20%20%20%20%20%20%20%20%20%20%20%20%20%7B%7D%0A%20%20%20%20%20%20%20%20%20%20%20%20%29.addTo%28map_02ac37247a52466c8a14aff45e6b9eec%29%3B%0A%20%20%20%20%20%20%20%20%0A%20%20%20%20%0A%20%20%20%20%20%20%20%20%20%20%20%20var%20icon_242c2b9d3250493bb1067b2b8b1f45a4%20%3D%20L.AwesomeMarkers.icon%28%0A%20%20%20%20%20%20%20%20%20%20%20%20%20%20%20%20%7B%22extraClasses%22%3A%20%22fa-rotate-0%22%2C%20%22icon%22%3A%20%22info-sign%22%2C%20%22iconColor%22%3A%20%22white%22%2C%20%22markerColor%22%3A%20%22orange%22%2C%20%22prefix%22%3A%20%22glyphicon%22%7D%0A%20%20%20%20%20%20%20%20%20%20%20%20%29%3B%0A%20%20%20%20%20%20%20%20%20%20%20%20marker_2a9804619eb4491580998ae3aeb2f470.setIcon%28icon_242c2b9d3250493bb1067b2b8b1f45a4%29%3B%0A%20%20%20%20%20%20%20%20%0A%20%20%20%20%0A%20%20%20%20%20%20%20%20var%20popup_a804ddec13b1482892411c73f608682c%20%3D%20L.popup%28%7B%22maxWidth%22%3A%20%22100%25%22%7D%29%3B%0A%0A%20%20%20%20%20%20%20%20%0A%20%20%20%20%20%20%20%20%20%20%20%20var%20html_133bcd12df9a433f98c99e21740d358c%20%3D%20%24%28%60%3Cdiv%20id%3D%22html_133bcd12df9a433f98c99e21740d358c%22%20style%3D%22width%3A%20100.0%25%3B%20height%3A%20100.0%25%3B%22%3EPr%C3%A9diction%200%3C/div%3E%60%29%5B0%5D%3B%0A%20%20%20%20%20%20%20%20%20%20%20%20popup_a804ddec13b1482892411c73f608682c.setContent%28html_133bcd12df9a433f98c99e21740d358c%29%3B%0A%20%20%20%20%20%20%20%20%0A%0A%20%20%20%20%20%20%20%20marker_2a9804619eb4491580998ae3aeb2f470.bindPopup%28popup_a804ddec13b1482892411c73f608682c%29%0A%20%20%20%20%20%20%20%20%3B%0A%0A%20%20%20%20%20%20%20%20%0A%20%20%20%20%0A%3C/script%3E onload=\"this.contentDocument.open();this.contentDocument.write(    decodeURIComponent(this.getAttribute('data-html')));this.contentDocument.close();\" allowfullscreen webkitallowfullscreen mozallowfullscreen></iframe></div></div>"
      ],
      "text/plain": [
       "<folium.folium.Map at 0x176e78f9148>"
      ]
     },
     "execution_count": 109,
     "metadata": {},
     "output_type": "execute_result"
    }
   ],
   "source": [
    "#Coordonées GPS de Brisbane\n",
    "Brisbane = [-27.4710107, 153.0234489] #coordonées de la ville de Brisbane\n",
    "\n",
    "#Affiche la map\n",
    "brisbane = folium.Map(location = Brisbane, zoom_start = 14.25) #affichage de la carte\n",
    "folium.Marker([fitted_mean.collect()[0][0], fitted_mean.collect()[0][1]], icon=folium.Icon(color=\"blue\"),popup = \"Prédiction 1\").add_to(brisbane)\n",
    "folium.Marker([fitted_mean.collect()[1][0], fitted_mean.collect()[1][1]],icon=folium.Icon(color=\"green\"), popup = \"Prédiction 2\").add_to(brisbane)\n",
    "folium.Marker([fitted_mean.collect()[2][0], fitted_mean.collect()[2][1]],icon=folium.Icon(color=\"orange\"), popup = \"Prédiction 0\").add_to(brisbane)\n",
    "#ajout des flèches des clusters 0,1 et 2 à l'aide de folium Marker en récup\n",
    "\n",
    "brisbane #on affiche la carte de Brisbane "
   ]
  },
  {
   "cell_type": "code",
   "execution_count": 110,
   "metadata": {},
   "outputs": [
    {
     "name": "stdout",
     "output_type": "stream",
     "text": [
      "+----------+----------+--------------------+----------+\n",
      "|  latitude| longitude|            features|prediction|\n",
      "+----------+----------+--------------------+----------+\n",
      "|-27.482279|153.028723|[153.028723,-27.4...|         2|\n",
      "| -27.47059|153.036046|[153.036046,-27.4...|         2|\n",
      "|-27.474531|153.042728|[153.042728,-27.4...|         1|\n",
      "|-27.461881|153.046986|[153.046986,-27.4...|         1|\n",
      "|-27.469658|153.016696|[153.016696,-27.4...|         2|\n",
      "| -27.48172| 153.00436|[153.00436,-27.48...|         0|\n",
      "|-27.493626|153.001482|[153.001482,-27.4...|         0|\n",
      "|-27.476076|153.002459|[153.002459,-27.4...|         0|\n",
      "|-27.493963|153.011938|[153.011938,-27.4...|         0|\n",
      "|-27.482197|153.020894|[153.020894,-27.4...|         2|\n",
      "|-27.465226|153.050864|[153.050864,-27.4...|         1|\n",
      "|-27.468447|153.024662|[153.024662,-27.4...|         2|\n",
      "|-27.473021|153.025988|[153.025988,-27.4...|         2|\n",
      "|-27.457825|153.036866|[153.036866,-27.4...|         1|\n",
      "| -27.48148| 153.02368|[153.02368,-27.48...|         2|\n",
      "|-27.467464|153.022094|[153.022094,-27.4...|         2|\n",
      "|-27.499963|153.017633|[153.017633,-27.4...|         0|\n",
      "|-27.490776|152.994747|[152.994747,-27.4...|         0|\n",
      "|-27.458199|153.041688|[153.041688,-27.4...|         1|\n",
      "|-27.481808|153.025477|[153.025477,-27.4...|         2|\n",
      "+----------+----------+--------------------+----------+\n",
      "only showing top 20 rows\n",
      "\n"
     ]
    }
   ],
   "source": [
    "fitted.show()"
   ]
  },
  {
   "cell_type": "markdown",
   "metadata": {},
   "source": [
    "9) Exporter la data frame fitted après élimination de la colonne  features, dans le répertoire path-to-output-data"
   ]
  },
  {
   "cell_type": "code",
   "execution_count": 111,
   "metadata": {},
   "outputs": [
    {
     "name": "stdout",
     "output_type": "stream",
     "text": [
      "+----------+----------+----------+\n",
      "|  latitude| longitude|prediction|\n",
      "+----------+----------+----------+\n",
      "|-27.482279|153.028723|         2|\n",
      "| -27.47059|153.036046|         2|\n",
      "|-27.474531|153.042728|         1|\n",
      "|-27.461881|153.046986|         1|\n",
      "|-27.469658|153.016696|         2|\n",
      "| -27.48172| 153.00436|         0|\n",
      "|-27.493626|153.001482|         0|\n",
      "|-27.476076|153.002459|         0|\n",
      "|-27.493963|153.011938|         0|\n",
      "|-27.482197|153.020894|         2|\n",
      "|-27.465226|153.050864|         1|\n",
      "|-27.468447|153.024662|         2|\n",
      "|-27.473021|153.025988|         2|\n",
      "|-27.457825|153.036866|         1|\n",
      "| -27.48148| 153.02368|         2|\n",
      "|-27.467464|153.022094|         2|\n",
      "|-27.499963|153.017633|         0|\n",
      "|-27.490776|152.994747|         0|\n",
      "|-27.458199|153.041688|         1|\n",
      "|-27.481808|153.025477|         2|\n",
      "+----------+----------+----------+\n",
      "only showing top 20 rows\n",
      "\n"
     ]
    }
   ],
   "source": [
    "fitted_final = fitted.drop('features') #on retire la colonne features et on créé un nouveau data frame fitted_final\n",
    "fitted_final.show()"
   ]
  },
  {
   "cell_type": "code",
   "execution_count": 112,
   "metadata": {},
   "outputs": [],
   "source": [
    "fitted_final.toPandas().to_csv(path_to_output_data + r'\\fitted_final.csv') \n",
    "#on exporte fitted_final en csv vers l'emplacement cible du fichier de configuration\n",
    "#Le fichier CSV est bien dans mon emplacement output\n"
   ]
  }
 ],
 "metadata": {
  "kernelspec": {
   "display_name": "Python 3",
   "language": "python",
   "name": "python3"
  },
  "language_info": {
   "codemirror_mode": {
    "name": "ipython",
    "version": 3
   },
   "file_extension": ".py",
   "mimetype": "text/x-python",
   "name": "python",
   "nbconvert_exporter": "python",
   "pygments_lexer": "ipython3",
   "version": "3.7.6"
  }
 },
 "nbformat": 4,
 "nbformat_minor": 4
}
