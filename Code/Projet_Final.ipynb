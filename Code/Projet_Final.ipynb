{
  "nbformat": 4,
  "nbformat_minor": 0,
  "metadata": {
    "kernelspec": {
      "display_name": "Python 3",
      "language": "python",
      "name": "python3"
    },
    "language_info": {
      "codemirror_mode": {
        "name": "ipython",
        "version": 3
      },
      "file_extension": ".py",
      "mimetype": "text/x-python",
      "name": "python",
      "nbconvert_exporter": "python",
      "pygments_lexer": "ipython3",
      "version": "3.9.0"
    },
    "colab": {
      "name": "Projet_Final.ipynb",
      "provenance": [],
      "collapsed_sections": []
    }
  },
  "cells": [
    {
      "cell_type": "markdown",
      "metadata": {
        "id": "C7sv7zkXdFie"
      },
      "source": [
        "### Importation des Packages"
      ]
    },
    {
      "cell_type": "code",
      "metadata": {
        "colab": {
          "base_uri": "https://localhost:8080/",
          "height": 590
        },
        "id": "tsD-5WFZdHRf",
        "outputId": "b6c9f100-fa6d-4847-a203-62b46ab629f2"
      },
      "source": [
        "!apt-get update\r\n",
        "!apt-get install openjdk-8-jdk-headless -qq > /dev/null\r\n",
        "!wget -q http://archive.apache.org/dist/spark/spark-2.3.1/spark-2.3.1-bin-hadoop2.7.tgz\r\n",
        "!tar xf spark-2.3.1-bin-hadoop2.7.tgz\r\n",
        "!pip install -q findspark\r\n",
        "\r\n",
        "import os\r\n",
        "os.environ[\"JAVA_HOME\"] = \"/usr/lib/jvm/java-8-openjdk-amd64\"\r\n",
        "os.environ[\"SPARK_HOME\"] = \"/content/spark-2.3.1-bin-hadoop2.7\"\r\n",
        "\r\n",
        "!ls\r\n",
        "\r\n",
        "import findspark\r\n",
        "findspark.init()\r\n",
        "\r\n",
        "import pyspark\r\n",
        "from pyspark.sql import SparkSession\r\n",
        "spark = SparkSession.builder.getOrCreate() \r\n",
        "spark"
      ],
      "execution_count": 2,
      "outputs": [
        {
          "output_type": "stream",
          "text": [
            "\r0% [Working]\r            \rGet:1 http://security.ubuntu.com/ubuntu bionic-security InRelease [88.7 kB]\n",
            "\r0% [Waiting for headers] [1 InRelease 2,586 B/88.7 kB 3%] [Connecting to cloud.\r                                                                               \rGet:2 http://ppa.launchpad.net/c2d4u.team/c2d4u4.0+/ubuntu bionic InRelease [15.9 kB]\n",
            "\r0% [Waiting for headers] [1 InRelease 14.2 kB/88.7 kB 16%] [Connecting to cloud\r                                                                               \rHit:3 http://archive.ubuntu.com/ubuntu bionic InRelease\n",
            "\r0% [1 InRelease 88.7 kB/88.7 kB 100%] [Connecting to cloud.r-project.org (65.9.\r                                                                               \rGet:4 http://archive.ubuntu.com/ubuntu bionic-updates InRelease [88.7 kB]\n",
            "\r                                                                               \rHit:5 http://ppa.launchpad.net/cran/libgit2/ubuntu bionic InRelease\n",
            "\r0% [4 InRelease 56.2 kB/88.7 kB 63%] [Connected to cloud.r-project.org (65.9.83\r0% [3 InRelease gpgv 242 kB] [4 InRelease 56.2 kB/88.7 kB 63%] [Connected to cl\r0% [3 InRelease gpgv 242 kB] [Waiting for headers] [Waiting for headers] [Conne\r                                                                               \rGet:6 https://cloud.r-project.org/bin/linux/ubuntu bionic-cran40/ InRelease [3,626 B]\n",
            "\r0% [3 InRelease gpgv 242 kB] [Waiting for headers] [6 InRelease 0 B/3,626 B 0%]\r0% [3 InRelease gpgv 242 kB] [Waiting for headers] [Connecting to ppa.launchpad\r                                                                               \rGet:7 http://archive.ubuntu.com/ubuntu bionic-backports InRelease [74.6 kB]\n",
            "\r0% [3 InRelease gpgv 242 kB] [7 InRelease 17.1 kB/74.6 kB 23%] [Waiting for hea\r                                                                               \rHit:8 http://ppa.launchpad.net/deadsnakes/ppa/ubuntu bionic InRelease\n",
            "\r0% [3 InRelease gpgv 242 kB] [7 InRelease 60.5 kB/74.6 kB 81%] [Waiting for hea\r0% [3 InRelease gpgv 242 kB] [Connecting to ppa.launchpad.net (91.189.95.85)] [\r                                                                               \rHit:9 http://ppa.launchpad.net/graphics-drivers/ppa/ubuntu bionic InRelease\n",
            "Ign:10 https://developer.download.nvidia.com/compute/cuda/repos/ubuntu1804/x86_64  InRelease\n",
            "Ign:11 https://developer.download.nvidia.com/compute/machine-learning/repos/ubuntu1804/x86_64  InRelease\n",
            "Hit:12 https://developer.download.nvidia.com/compute/cuda/repos/ubuntu1804/x86_64  Release\n",
            "Hit:13 https://developer.download.nvidia.com/compute/machine-learning/repos/ubuntu1804/x86_64  Release\n",
            "Get:14 http://security.ubuntu.com/ubuntu bionic-security/main amd64 Packages [1,963 kB]\n",
            "Get:15 http://security.ubuntu.com/ubuntu bionic-security/universe amd64 Packages [1,392 kB]\n",
            "Get:16 http://ppa.launchpad.net/c2d4u.team/c2d4u4.0+/ubuntu bionic/main Sources [1,739 kB]\n",
            "Get:17 http://ppa.launchpad.net/c2d4u.team/c2d4u4.0+/ubuntu bionic/main amd64 Packages [889 kB]\n",
            "Get:18 http://archive.ubuntu.com/ubuntu bionic-updates/universe amd64 Packages [2,163 kB]\n",
            "Get:19 http://archive.ubuntu.com/ubuntu bionic-updates/main amd64 Packages [2,394 kB]\n",
            "Fetched 10.8 MB in 3s (4,260 kB/s)\n",
            "Reading package lists... Done\n",
            "sample_data  spark-2.3.1-bin-hadoop2.7\tspark-2.3.1-bin-hadoop2.7.tgz\n"
          ],
          "name": "stdout"
        },
        {
          "output_type": "execute_result",
          "data": {
            "text/html": [
              "\n",
              "            <div>\n",
              "                <p><b>SparkSession - in-memory</b></p>\n",
              "                \n",
              "        <div>\n",
              "            <p><b>SparkContext</b></p>\n",
              "\n",
              "            <p><a href=\"http://db918e6b026d:4040\">Spark UI</a></p>\n",
              "\n",
              "            <dl>\n",
              "              <dt>Version</dt>\n",
              "                <dd><code>v2.3.1</code></dd>\n",
              "              <dt>Master</dt>\n",
              "                <dd><code>local[*]</code></dd>\n",
              "              <dt>AppName</dt>\n",
              "                <dd><code>pyspark-shell</code></dd>\n",
              "            </dl>\n",
              "        </div>\n",
              "        \n",
              "            </div>\n",
              "        "
            ],
            "text/plain": [
              "<pyspark.sql.session.SparkSession at 0x7f62019c5590>"
            ]
          },
          "metadata": {
            "tags": []
          },
          "execution_count": 2
        }
      ]
    },
    {
      "cell_type": "code",
      "metadata": {
        "id": "pjAl5UW7dFiv"
      },
      "source": [
        "from pyspark import SparkContext\n",
        "from pyspark.sql import SparkSession\n",
        "from pyspark.sql import functions as F"
      ],
      "execution_count": 3,
      "outputs": []
    },
    {
      "cell_type": "markdown",
      "metadata": {
        "id": "Zp4s0jZ1dFix"
      },
      "source": [
        "### Création de la base de données"
      ]
    },
    {
      "cell_type": "code",
      "metadata": {
        "colab": {
          "base_uri": "https://localhost:8080/"
        },
        "id": "wMmgnpJfdFiy",
        "outputId": "faf7e2b5-cbe4-4747-afda-3c4133e8ea4f"
      },
      "source": [
        "t1 = [('07890', 'Jean Paul Sartre'), ('05678', 'Pierre de Ronsard')]\n",
        "rdd1 = spark.sparkContext.parallelize(t1)\n",
        "Auteur = rdd1.toDF(['aid', 'name'])\n",
        "Auteur.show()"
      ],
      "execution_count": 17,
      "outputs": [
        {
          "output_type": "stream",
          "text": [
            "+-----+-----------------+\n",
            "|  aid|             name|\n",
            "+-----+-----------------+\n",
            "|07890| Jean Paul Sartre|\n",
            "|05678|Pierre de Ronsard|\n",
            "+-----+-----------------+\n",
            "\n"
          ],
          "name": "stdout"
        }
      ]
    },
    {
      "cell_type": "code",
      "metadata": {
        "colab": {
          "base_uri": "https://localhost:8080/"
        },
        "id": "YmyFiLKtdFi1",
        "outputId": "8eaa2b97-4a97-4863-a464-976457fdb9dd"
      },
      "source": [
        "t2 = [('0001', \"L'existentialisme est un humanisme\", 'Philosophie'), \\\n",
        "      ('0002', 'Huis clos. Suivi de Les Mouches', 'Philosophie'), \\\n",
        "     ('0003', 'Mignonne allons voir si la rose', 'Poeme'), \\\n",
        "     ('0004', 'Les Amours', 'Poème')]\n",
        "rdd2 = spark.sparkContext.parallelize(t2)\n",
        "livre = rdd2.toDF(['bid', 'title', 'category'])\n",
        "livre.show()"
      ],
      "execution_count": 18,
      "outputs": [
        {
          "output_type": "stream",
          "text": [
            "+----+--------------------+-----------+\n",
            "| bid|               title|   category|\n",
            "+----+--------------------+-----------+\n",
            "|0001|L'existentialisme...|Philosophie|\n",
            "|0002|Huis clos. Suivi ...|Philosophie|\n",
            "|0003|Mignonne allons v...|      Poeme|\n",
            "|0004|          Les Amours|      Poème|\n",
            "+----+--------------------+-----------+\n",
            "\n"
          ],
          "name": "stdout"
        }
      ]
    },
    {
      "cell_type": "code",
      "metadata": {
        "colab": {
          "base_uri": "https://localhost:8080/"
        },
        "id": "x2fR42zpdFi2",
        "outputId": "52ed099e-9842-43b9-8f9e-1af838e2c022"
      },
      "source": [
        "t3 = [('S15', 'toto', 'Math'), \\\n",
        "      ('S16', 'popo', 'Eco'), \\\n",
        "     ('S17', 'fofo', 'Mécanique')]\n",
        "rdd3 = spark.sparkContext.parallelize(t3)\n",
        "Etudiant = rdd3.toDF(['sid', 'sname', 'dept'])\n",
        "Etudiant.show()"
      ],
      "execution_count": 19,
      "outputs": [
        {
          "output_type": "stream",
          "text": [
            "+---+-----+---------+\n",
            "|sid|sname|     dept|\n",
            "+---+-----+---------+\n",
            "|S15| toto|     Math|\n",
            "|S16| popo|      Eco|\n",
            "|S17| fofo|Mécanique|\n",
            "+---+-----+---------+\n",
            "\n"
          ],
          "name": "stdout"
        }
      ]
    },
    {
      "cell_type": "code",
      "metadata": {
        "colab": {
          "base_uri": "https://localhost:8080/"
        },
        "id": "KkKWlQTjdFi3",
        "outputId": "3d9c1c66-82c1-4efb-980a-6eb035f1b5d4"
      },
      "source": [
        "t4 = [('07890', '0001'), \\\n",
        "      ('07890', '0002'), \\\n",
        "     ('05678', '0003'), \\\n",
        "     ('05678', '0003')]\n",
        "rdd4 = spark.sparkContext.parallelize(t4)\n",
        "write = rdd4.toDF(['aid', 'bid'])\n",
        "write.show()"
      ],
      "execution_count": 20,
      "outputs": [
        {
          "output_type": "stream",
          "text": [
            "+-----+----+\n",
            "|  aid| bid|\n",
            "+-----+----+\n",
            "|07890|0001|\n",
            "|07890|0002|\n",
            "|05678|0003|\n",
            "|05678|0003|\n",
            "+-----+----+\n",
            "\n"
          ],
          "name": "stdout"
        }
      ]
    },
    {
      "cell_type": "code",
      "metadata": {
        "colab": {
          "base_uri": "https://localhost:8080/"
        },
        "id": "w0ZVA16RdFi3",
        "outputId": "c09b0df2-347a-455a-96c2-d38b9b7a8cb2"
      },
      "source": [
        "t5 = [('S15', '0003', '02-01-2020', '01-02-2020'), \\\n",
        "      ('S15', '0002', '13-06-2020', 'null'), \\\n",
        "     ('S15', '0001', '13-06-2020', '13-10-2020'), \\\n",
        "     ('S16', '0002', '24-01-2020', '24-01-2020'), \\\n",
        "     ('S17', '0001', '12-04-2020', '01-07-2020')]\n",
        "rdd5 = spark.sparkContext.parallelize(t5)\n",
        "Emprunt = rdd5.toDF(['sid', 'bid', 'checkout_time', 'return_time'])\n",
        "Emprunt.show()"
      ],
      "execution_count": 21,
      "outputs": [
        {
          "output_type": "stream",
          "text": [
            "+---+----+-------------+-----------+\n",
            "|sid| bid|checkout_time|return_time|\n",
            "+---+----+-------------+-----------+\n",
            "|S15|0003|   02-01-2020| 01-02-2020|\n",
            "|S15|0002|   13-06-2020|       null|\n",
            "|S15|0001|   13-06-2020| 13-10-2020|\n",
            "|S16|0002|   24-01-2020| 24-01-2020|\n",
            "|S17|0001|   12-04-2020| 01-07-2020|\n",
            "+---+----+-------------+-----------+\n",
            "\n"
          ],
          "name": "stdout"
        }
      ]
    },
    {
      "cell_type": "markdown",
      "metadata": {
        "id": "Bj317DaxU_TX"
      },
      "source": [
        "###Création des Tables SQL"
      ]
    },
    {
      "cell_type": "code",
      "metadata": {
        "id": "AQLiQqBKUn92"
      },
      "source": [
        "Auteur.createOrReplaceTempView('Auteur_SQL')\r\n",
        "livre.createOrReplaceTempView('Livre_SQL')\r\n",
        "Etudiant.createOrReplaceTempView('Etudiant_SQL')\r\n",
        "write.createOrReplaceTempView('Write_SQL')\r\n",
        "Emprunt.createOrReplaceTempView('Emprunt_SQL')"
      ],
      "execution_count": 81,
      "outputs": []
    },
    {
      "cell_type": "markdown",
      "metadata": {
        "id": "mx3ph6bzdFi4"
      },
      "source": [
        "### Q1 : Trouver les titres de tous les livres que l'étudiant sid='S15' a emprunté"
      ]
    },
    {
      "cell_type": "code",
      "metadata": {
        "colab": {
          "base_uri": "https://localhost:8080/"
        },
        "id": "WASSCmLOdFi5",
        "outputId": "1bc2c4a9-382a-4be1-8e51-f93524ebb3b3"
      },
      "source": [
        "# SQL\n",
        "spark.sql(\"\"\"select title\n",
        "            from Livre_SQL \n",
        "            join Emprunt_SQL on Livre_SQL.bid = Emprunt_SQL.bid\n",
        "            where Emprunt_SQL.sid == 'S15' \"\"\").show()"
      ],
      "execution_count": 40,
      "outputs": [
        {
          "output_type": "stream",
          "text": [
            "+--------------------+\n",
            "|               title|\n",
            "+--------------------+\n",
            "|Huis clos. Suivi ...|\n",
            "|Mignonne allons v...|\n",
            "|L'existentialisme...|\n",
            "+--------------------+\n",
            "\n"
          ],
          "name": "stdout"
        }
      ]
    },
    {
      "cell_type": "code",
      "metadata": {
        "colab": {
          "base_uri": "https://localhost:8080/"
        },
        "id": "3AyRJN23dFi5",
        "outputId": "b3d19ab0-69fd-49ff-f5d2-640b3fa09650"
      },
      "source": [
        "# DSL\n",
        "livre.join(Emprunt, 'bid')\\\n",
        "     .select('title')\\\n",
        "     .filter(F.col('sid')=='S15')\\\n",
        "     .show()"
      ],
      "execution_count": 34,
      "outputs": [
        {
          "output_type": "stream",
          "text": [
            "+--------------------+\n",
            "|               title|\n",
            "+--------------------+\n",
            "|Huis clos. Suivi ...|\n",
            "|Mignonne allons v...|\n",
            "|L'existentialisme...|\n",
            "+--------------------+\n",
            "\n"
          ],
          "name": "stdout"
        }
      ]
    },
    {
      "cell_type": "markdown",
      "metadata": {
        "id": "tmBq637tdFi6"
      },
      "source": [
        "### Q2 : Trouver les titres de tous les livres qui n'ont jamais été empruntés par un étudiant"
      ]
    },
    {
      "cell_type": "code",
      "metadata": {
        "colab": {
          "base_uri": "https://localhost:8080/"
        },
        "id": "7T0yQnNUdFi7",
        "outputId": "ea693bf4-e41c-4001-f0cc-5b6e7167280c"
      },
      "source": [
        "# SQL\n",
        "spark.sql(\"\"\"select title \n",
        "            from Livre_SQL\n",
        "            left join Emprunt_SQL on Livre_SQL.bid = Emprunt_SQL.bid\n",
        "            where Emprunt_SQL.bid is NULL\"\"\").show()"
      ],
      "execution_count": 47,
      "outputs": [
        {
          "output_type": "stream",
          "text": [
            "+----------+\n",
            "|     title|\n",
            "+----------+\n",
            "|Les Amours|\n",
            "+----------+\n",
            "\n"
          ],
          "name": "stdout"
        }
      ]
    },
    {
      "cell_type": "code",
      "metadata": {
        "colab": {
          "base_uri": "https://localhost:8080/"
        },
        "id": "5Kz9ziBYdFi7",
        "outputId": "5a3339f5-648b-4e76-9681-0499b5418896"
      },
      "source": [
        "# DSL\n",
        "livre.join(Emprunt, livre.bid==Emprunt.bid, how='left')\\\n",
        "    .select('title')\\\n",
        "    .filter(F.col('sid').isNull())\\\n",
        "    .show()"
      ],
      "execution_count": 36,
      "outputs": [
        {
          "output_type": "stream",
          "text": [
            "+----------+\n",
            "|     title|\n",
            "+----------+\n",
            "|Les Amours|\n",
            "+----------+\n",
            "\n"
          ],
          "name": "stdout"
        }
      ]
    },
    {
      "cell_type": "markdown",
      "metadata": {
        "id": "WEIp8DgadFi8"
      },
      "source": [
        "### Q3 : Trouver tous les étudiants qui ont emprunté le livre bid=’0002’"
      ]
    },
    {
      "cell_type": "code",
      "metadata": {
        "colab": {
          "base_uri": "https://localhost:8080/"
        },
        "id": "IuGRSDyOdFi9",
        "outputId": "99e99cc5-20bd-4f40-e52b-4172a61fc742"
      },
      "source": [
        "# SQL\n",
        "spark.sql(\"\"\"select sname\n",
        "            from Etudiant_SQL\n",
        "            join Emprunt_SQL on Etudiant_SQL.sid = Emprunt_SQL.sid\n",
        "            where Emprunt_SQL.bid == '0002' \"\"\").show()"
      ],
      "execution_count": 39,
      "outputs": [
        {
          "output_type": "stream",
          "text": [
            "+-----+\n",
            "|sname|\n",
            "+-----+\n",
            "| popo|\n",
            "| toto|\n",
            "+-----+\n",
            "\n"
          ],
          "name": "stdout"
        }
      ]
    },
    {
      "cell_type": "code",
      "metadata": {
        "colab": {
          "base_uri": "https://localhost:8080/"
        },
        "id": "7_-qTjHtdFi-",
        "outputId": "1f22503e-3e3a-45b1-d969-6e705efb5c0b"
      },
      "source": [
        "# DSL\n",
        "Etudiant.join(Emprunt, 'sid')\\\n",
        "    .select('sname')\\\n",
        "    .filter(F.col('bid')=='0002')\\\n",
        "    .show()"
      ],
      "execution_count": 41,
      "outputs": [
        {
          "output_type": "stream",
          "text": [
            "+-----+\n",
            "|sname|\n",
            "+-----+\n",
            "| popo|\n",
            "| toto|\n",
            "+-----+\n",
            "\n"
          ],
          "name": "stdout"
        }
      ]
    },
    {
      "cell_type": "markdown",
      "metadata": {
        "id": "MiEtAfTedFi_"
      },
      "source": [
        "### Q4 : Trouver les titres de tous les livres empruntés par des étudiants en Mécanique"
      ]
    },
    {
      "cell_type": "code",
      "metadata": {
        "colab": {
          "base_uri": "https://localhost:8080/"
        },
        "id": "NQGEuI0vdFjA",
        "outputId": "0016ba94-661e-4c9b-e8a8-f11ff106df24"
      },
      "source": [
        "# SQL\n",
        "spark.sql(\"\"\"select title\n",
        "            from Livre_SQL\n",
        "            join Emprunt_SQL on Livre_SQL.bid = Emprunt_SQL.bid\n",
        "            join Etudiant_SQL on Emprunt_SQL.sid = Etudiant_SQL.sid\n",
        "            where Etudiant_SQL.dept == 'Mécanique' \"\"\").show()"
      ],
      "execution_count": 43,
      "outputs": [
        {
          "output_type": "stream",
          "text": [
            "+--------------------+\n",
            "|               title|\n",
            "+--------------------+\n",
            "|L'existentialisme...|\n",
            "+--------------------+\n",
            "\n"
          ],
          "name": "stdout"
        }
      ]
    },
    {
      "cell_type": "code",
      "metadata": {
        "colab": {
          "base_uri": "https://localhost:8080/"
        },
        "id": "o5-7KaiRdFjC",
        "outputId": "a920e9a2-02e8-4796-e774-d1d645617a99"
      },
      "source": [
        "# DSL\n",
        "livre.join(Emprunt, 'bid')\\\n",
        "    .join(Etudiant, 'sid')\\\n",
        "    .select('title')\\\n",
        "    .filter(F.col('dept')=='Mécanique')\\\n",
        "    .show()"
      ],
      "execution_count": 44,
      "outputs": [
        {
          "output_type": "stream",
          "text": [
            "+--------------------+\n",
            "|               title|\n",
            "+--------------------+\n",
            "|L'existentialisme...|\n",
            "+--------------------+\n",
            "\n"
          ],
          "name": "stdout"
        }
      ]
    },
    {
      "cell_type": "markdown",
      "metadata": {
        "id": "4SxruqepdFjD"
      },
      "source": [
        "### Q5 : Trouver les étudiants qui n’ont jamais emprunté de livre"
      ]
    },
    {
      "cell_type": "code",
      "metadata": {
        "colab": {
          "base_uri": "https://localhost:8080/"
        },
        "id": "DL2btTSzdFjD",
        "outputId": "0fbdca48-9160-4590-91ab-337c50ab4a07"
      },
      "source": [
        "# SQL\n",
        "spark.sql(\"\"\"select sname\n",
        "            from Etudiant_SQL\n",
        "            left join Emprunt_SQL on Etudiant_SQL.sid = Emprunt_SQL.sid\n",
        "            where Emprunt_SQL.sid is null\"\"\").show()"
      ],
      "execution_count": 60,
      "outputs": [
        {
          "output_type": "stream",
          "text": [
            "+-----+\n",
            "|sname|\n",
            "+-----+\n",
            "+-----+\n",
            "\n"
          ],
          "name": "stdout"
        }
      ]
    },
    {
      "cell_type": "code",
      "metadata": {
        "colab": {
          "base_uri": "https://localhost:8080/"
        },
        "id": "4lNsmcZIdFjE",
        "outputId": "8dcfbf54-6854-4b21-892e-9e44d1861106"
      },
      "source": [
        "# DSL\n",
        "Etudiant.join(Emprunt, Etudiant.sid==Emprunt.sid, how='left')\\\n",
        "    .select('sname')\\\n",
        "    .filter(F.col('sname').isNull())\\\n",
        "    .show()"
      ],
      "execution_count": 61,
      "outputs": [
        {
          "output_type": "stream",
          "text": [
            "+-----+\n",
            "|sname|\n",
            "+-----+\n",
            "+-----+\n",
            "\n"
          ],
          "name": "stdout"
        }
      ]
    },
    {
      "cell_type": "markdown",
      "metadata": {
        "id": "NcbuW_ccdFjE"
      },
      "source": [
        "### Q6 : Déterminer l’auteur qui a écrit le plus de livres"
      ]
    },
    {
      "cell_type": "code",
      "metadata": {
        "colab": {
          "base_uri": "https://localhost:8080/"
        },
        "id": "lH9yJ_sodFjE",
        "outputId": "0662039f-333c-41bc-e53b-f313158a8360"
      },
      "source": [
        "# SQL \n",
        "spark.sql(\"\"\"select first(name) as auteur, count(distinct bid) as nbr\n",
        "            from Auteur_SQL\n",
        "            join Write_SQL on Auteur_SQL.aid = Write_SQL.aid\n",
        "            group by name\"\"\").show()"
      ],
      "execution_count": 54,
      "outputs": [
        {
          "output_type": "stream",
          "text": [
            "+-----------------+---+\n",
            "|           auteur|nbr|\n",
            "+-----------------+---+\n",
            "| Jean Paul Sartre|  2|\n",
            "|Pierre de Ronsard|  1|\n",
            "+-----------------+---+\n",
            "\n"
          ],
          "name": "stdout"
        }
      ]
    },
    {
      "cell_type": "code",
      "metadata": {
        "id": "8Su93_8HdFjF",
        "colab": {
          "base_uri": "https://localhost:8080/"
        },
        "outputId": "31f38c6e-bc82-41f5-93b2-cd8cad4d185a"
      },
      "source": [
        "# DSL\n",
        "Auteur.join(write, \"aid\") \\\n",
        "    .distinct() \\\n",
        "    .groupBy(\"name\") \\\n",
        "    .agg(F.count(\"bid\").alias(\"nbr\")) \\\n",
        "    .sort(F.col(\"nbr\").desc()) \\\n",
        "    .select(F.first(\"name\").alias(\"auteur\"),F.first(\"nbr\").alias(\"nbr\")) \\\n",
        "    .show()"
      ],
      "execution_count": 53,
      "outputs": [
        {
          "output_type": "stream",
          "text": [
            "+----------------+---+\n",
            "|          auteur|nbr|\n",
            "+----------------+---+\n",
            "|Jean Paul Sartre|  2|\n",
            "+----------------+---+\n",
            "\n"
          ],
          "name": "stdout"
        }
      ]
    },
    {
      "cell_type": "markdown",
      "metadata": {
        "id": "zr4b6y6NdFjF"
      },
      "source": [
        "### Q7: Déterminer les personnes qui n’ont pas encore rendu les livres"
      ]
    },
    {
      "cell_type": "code",
      "metadata": {
        "id": "u-Xenj4JdFjF",
        "colab": {
          "base_uri": "https://localhost:8080/"
        },
        "outputId": "a5490e10-898e-4859-eb34-47868c66bda1"
      },
      "source": [
        "# SQL\n",
        "spark.sql(\"\"\"select sname\n",
        "            from Etudiant_SQL\n",
        "            join Emprunt_SQL on Etudiant_SQL.sid = Emprunt_SQL.sid\n",
        "            where Emprunt_SQL.return_time == 'null' \"\"\").show()"
      ],
      "execution_count": 59,
      "outputs": [
        {
          "output_type": "stream",
          "text": [
            "+-----+\n",
            "|sname|\n",
            "+-----+\n",
            "| toto|\n",
            "+-----+\n",
            "\n"
          ],
          "name": "stdout"
        }
      ]
    },
    {
      "cell_type": "code",
      "metadata": {
        "id": "5EWE78endFjG",
        "colab": {
          "base_uri": "https://localhost:8080/"
        },
        "outputId": "fae50a75-1870-4bf8-f0b9-3eae97ee56ac"
      },
      "source": [
        "# DSL\n",
        "Etudiant.join(Emprunt, 'sid')\\\n",
        "    .select('sname')\\\n",
        "    .filter(F.col('return_time')=='null')\\\n",
        "    .show()"
      ],
      "execution_count": 57,
      "outputs": [
        {
          "output_type": "stream",
          "text": [
            "+-----+\n",
            "|sname|\n",
            "+-----+\n",
            "| toto|\n",
            "+-----+\n",
            "\n"
          ],
          "name": "stdout"
        }
      ]
    },
    {
      "cell_type": "markdown",
      "metadata": {
        "id": "_aeqH3PIdFjG"
      },
      "source": [
        "### Q8 : Créer une nouvelle colonne dans la table Emprunt qui prend la valeur 1, si la durée d'emprunt est supérieur à 3 mois,  sinon 0."
      ]
    },
    {
      "cell_type": "markdown",
      "metadata": {
        "id": "DpD-Fx3kdFjG"
      },
      "source": [
        "### Q9 : Déterminer les livres qui n’ont jamais été empruntés"
      ]
    },
    {
      "cell_type": "code",
      "metadata": {
        "id": "Fs_5od-ldFjG"
      },
      "source": [
        "NewEmprunt=Emprunt.withColumn(\"check_to_date\", F.to_date(F.col(\"checkout_time\"), \"dd-MM-yyyy\"))\\\n",
        "    .withColumn(\"ret_to_date\", F.to_date(F.col(\"return_time\"), \"dd-MM-yyyy\"))\\\n",
        "    .withColumn(\"Duree\", F.datediff(F.col(\"ret_to_date\"), F.col(\"check_to_date\")))\\\n",
        "    .withColumn(\"plusde3mois\", (F.when(F.col(\"Duree\")>=90, 1).otherwise(0)))\\\n",
        "    .select(\"sid\", \"bid\", \"checkout_time\", \"return_time\", \"plusde3mois\")"
      ],
      "execution_count": 70,
      "outputs": []
    },
    {
      "cell_type": "code",
      "metadata": {
        "id": "uNS6f7A1S04A"
      },
      "source": [
        "NewEmprunt.toPandas().to_csv(\"../NewEmprunt.csv\", header=True) #On exporte en CSV "
      ],
      "execution_count": 76,
      "outputs": []
    },
    {
      "cell_type": "code",
      "metadata": {
        "id": "yUdV7X8tdFjH",
        "colab": {
          "base_uri": "https://localhost:8080/"
        },
        "outputId": "63fd73a4-c8e4-4cd5-fc08-530aac2304d4"
      },
      "source": [
        "# SQL\n",
        "spark.sql(\"\"\"select t1.bid, t1.title\n",
        "            from Livre_SQL as t1\n",
        "            left join Emprunt_SQL as t2 on t1.bid = t2.bid\n",
        "            where t2.sid is null\"\"\").show()"
      ],
      "execution_count": 79,
      "outputs": [
        {
          "output_type": "stream",
          "text": [
            "+----+----------+\n",
            "| bid|     title|\n",
            "+----+----------+\n",
            "|0004|Les Amours|\n",
            "+----+----------+\n",
            "\n"
          ],
          "name": "stdout"
        }
      ]
    },
    {
      "cell_type": "code",
      "metadata": {
        "id": "UIHFCso-dFjH",
        "colab": {
          "base_uri": "https://localhost:8080/"
        },
        "outputId": "87347c79-305d-4dfc-bf52-38d88eaf02dc"
      },
      "source": [
        "# DSL\n",
        "livre.join(Emprunt, livre.bid==Emprunt.bid, how='left')\\\n",
        "    .select('title')\\\n",
        "    .filter(F.col('sid').isNull())\\\n",
        "    .show()"
      ],
      "execution_count": 80,
      "outputs": [
        {
          "output_type": "stream",
          "text": [
            "+----------+\n",
            "|     title|\n",
            "+----------+\n",
            "|Les Amours|\n",
            "+----------+\n",
            "\n"
          ],
          "name": "stdout"
        }
      ]
    }
  ]
}