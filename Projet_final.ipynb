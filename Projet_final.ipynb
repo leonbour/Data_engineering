{
 "cells": [
  {
   "cell_type": "code",
   "execution_count": 2,
   "metadata": {},
   "outputs": [],
   "source": [
    "import numpy as np\n",
    "import pandas as pd"
   ]
  },
  {
   "cell_type": "markdown",
   "metadata": {},
   "source": [
    "## 0 - Création des données"
   ]
  },
  {
   "cell_type": "code",
   "execution_count": 3,
   "metadata": {},
   "outputs": [],
   "source": [
    "auteur = pd.DataFrame({\n",
    "    'aid' : ['07890', '05678'],\n",
    "    'name' : ['Jean Paul Sartre', 'Pierre de Ronsard']\n",
    "})"
   ]
  },
  {
   "cell_type": "code",
   "execution_count": 4,
   "metadata": {},
   "outputs": [],
   "source": [
    "livre = pd.DataFrame({\n",
    "    'bid' : ['0001', '0002', '0003', '0004'],\n",
    "    'title' : ['L_essentialisme est un humanisme', 'Huis clos. Suivi de Les Mouches', 'Mignonne allons voir si la rose', 'Les Amours'],\n",
    "    'category' : ['Philosophie', 'Philosophie', 'Poeme', 'Poeme']\n",
    "})"
   ]
  },
  {
   "cell_type": "code",
   "execution_count": 5,
   "metadata": {},
   "outputs": [],
   "source": [
    "etudiant = pd.DataFrame({\n",
    "    'sid' : ['S15', 'S16', 'S17'],\n",
    "    'sname' : ['toto', 'popo', 'fofo'],\n",
    "    'dept' : ['Math', 'Eco', 'Mecanique']\n",
    "})"
   ]
  },
  {
   "cell_type": "code",
   "execution_count": 6,
   "metadata": {},
   "outputs": [],
   "source": [
    "write = pd.DataFrame({\n",
    "    'aid' : ['07890', '07890', '05678', '05678'],\n",
    "    'bid' : ['001', '0002', '0003', '0003']\n",
    "})"
   ]
  },
  {
   "cell_type": "markdown",
   "metadata": {},
   "source": [
    "## 1 - Trouver les titres de tous les livres que l'étudiant S15 a emprunté"
   ]
  },
  {
   "cell_type": "code",
   "execution_count": null,
   "metadata": {},
   "outputs": [],
   "source": []
  }
 ],
 "metadata": {
  "kernelspec": {
   "display_name": "Python 3",
   "language": "python",
   "name": "python3"
  },
  "language_info": {
   "codemirror_mode": {
    "name": "ipython",
    "version": 3
   },
   "file_extension": ".py",
   "mimetype": "text/x-python",
   "name": "python",
   "nbconvert_exporter": "python",
   "pygments_lexer": "ipython3",
   "version": "3.7.4"
  }
 },
 "nbformat": 4,
 "nbformat_minor": 2
}
