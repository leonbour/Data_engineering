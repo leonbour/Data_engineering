{
 "cells": [
  {
   "cell_type": "code",
   "execution_count": 4,
   "metadata": {},
   "outputs": [],
   "source": [
    "from pyspark import SparkContext\n",
    "from pyspark.sql import SparkSession\n",
    "from pyspark.sql import functions as F\n",
    "\n",
    "import numpy as np\n",
    "import pandas as pd"
   ]
  },
  {
   "cell_type": "code",
   "execution_count": 5,
   "metadata": {},
   "outputs": [],
   "source": [
    "spark = SparkSession.builder.master(\"local\").appName(\"SQL-DSL\").getOrCreate()"
   ]
  },
  {
   "cell_type": "markdown",
   "metadata": {},
   "source": [
    "## 0 - Création des données"
   ]
  },
  {
   "cell_type": "code",
   "execution_count": 10,
   "metadata": {},
   "outputs": [],
   "source": [
    "t1 = [('07890', 'Jean Paul Sartre'), ('05678', 'Pierre de Ronsard')]\n",
    "rdd1 = spark.sparkContext.parallelize(t1)\n",
    "\n",
    "auteur = rdd1.toDF(['aid', 'name'])\n",
    "auteur.createOrReplaceTempView('Auteur_SQL')"
   ]
  },
  {
   "cell_type": "code",
   "execution_count": 3,
   "metadata": {},
   "outputs": [
    {
     "data": {
      "text/html": [
       "<div>\n",
       "<style scoped>\n",
       "    .dataframe tbody tr th:only-of-type {\n",
       "        vertical-align: middle;\n",
       "    }\n",
       "\n",
       "    .dataframe tbody tr th {\n",
       "        vertical-align: top;\n",
       "    }\n",
       "\n",
       "    .dataframe thead th {\n",
       "        text-align: right;\n",
       "    }\n",
       "</style>\n",
       "<table border=\"1\" class=\"dataframe\">\n",
       "  <thead>\n",
       "    <tr style=\"text-align: right;\">\n",
       "      <th></th>\n",
       "      <th>aid</th>\n",
       "      <th>name</th>\n",
       "    </tr>\n",
       "  </thead>\n",
       "  <tbody>\n",
       "    <tr>\n",
       "      <td>0</td>\n",
       "      <td>07890</td>\n",
       "      <td>Jean Paul Sartre</td>\n",
       "    </tr>\n",
       "    <tr>\n",
       "      <td>1</td>\n",
       "      <td>05678</td>\n",
       "      <td>Pierre de Ronsard</td>\n",
       "    </tr>\n",
       "  </tbody>\n",
       "</table>\n",
       "</div>"
      ],
      "text/plain": [
       "     aid               name\n",
       "0  07890   Jean Paul Sartre\n",
       "1  05678  Pierre de Ronsard"
      ]
     },
     "execution_count": 3,
     "metadata": {},
     "output_type": "execute_result"
    }
   ],
   "source": [
    "auteur.show()"
   ]
  },
  {
   "cell_type": "code",
   "execution_count": 4,
   "metadata": {},
   "outputs": [],
   "source": [
    "t2 = [('0001', 'L_essentialisme est un humanisme', 'Philosophie'), \\\n",
    "      ('0002', 'Huis clos. Suivi de Les Mouches', 'Philosophie'), \\\n",
    "      ('0003', 'Mignonne allons voir si la rose', 'Poeme'), \\\n",
    "      ('0004', 'Les Amours', 'Poeme')]\n",
    "rdd2 = spark.sparkContext.parallelize(t2)\n",
    "\n",
    "livre = rdd2.toDF(['bid', 'title', 'category'])\n",
    "livre.createOrReplaceTempView('Livre_SQL')"
   ]
  },
  {
   "cell_type": "code",
   "execution_count": 5,
   "metadata": {},
   "outputs": [],
   "source": [
    "t3 = [('S15', 'toto', 'Math'), \\\n",
    "      ('S16', 'popo', 'Eco'), \\\n",
    "      ('S17', 'fofo', 'Mécanique')]\n",
    "rdd3 = spark.sparkContext.parallelize(t3)\n",
    "\n",
    "etudiant = rdd3.toDF(['sid', 'name', 'dept'])\n",
    "etudiant.createOrReplaceTempView('Etudiant_SQL')"
   ]
  },
  {
   "cell_type": "code",
   "execution_count": 6,
   "metadata": {},
   "outputs": [],
   "source": [
    "t4 = [('07890', '0001'), \\\n",
    "      ('07890', '0002'), \\\n",
    "      ('05678', '0003'), \\\n",
    "      ('05678', '0003')]\n",
    "rdd4 = spark.sparkContext.parallelize(t4)\n",
    "\n",
    "write = rdd4.toDF(['aid', 'bid'])\n",
    "write.createOrReplaceTempView('Write_SQL')"
   ]
  },
  {
   "cell_type": "code",
   "execution_count": null,
   "metadata": {},
   "outputs": [],
   "source": [
    "t5 = [('S15', '0003', '02-01-2020', '01-02-2020'), \\\n",
    "      ('S15', '0002', '13-06-2020', 'null'), \\\n",
    "      ('S15', '0001', '13-06-2020', '13-10-2020'), \\\n",
    "      ('S16', '0002', '24-01-2020', '24-01-2020'), \\\n",
    "      ('S17', '0001', '12-04-2020' '01-07-2020')]\n",
    "rdd5 = spark.sparkContext.parallelize(t5)\n",
    "\n",
    "emprunt = rdd5.toDF(['sid', 'bid', 'checkout_time', 'return_time'])\n",
    "emprunt.createOrReplaceTempView('Emprunt_SQL')"
   ]
  },
  {
   "cell_type": "markdown",
   "metadata": {},
   "source": [
    "## 1 - Trouver les titres de tous les livres que l'étudiant S15 a emprunté"
   ]
  },
  {
   "cell_type": "code",
   "execution_count": null,
   "metadata": {},
   "outputs": [],
   "source": []
  }
 ],
 "metadata": {
  "kernelspec": {
   "display_name": "Python 3",
   "language": "python",
   "name": "python3"
  },
  "language_info": {
   "codemirror_mode": {
    "name": "ipython",
    "version": 3
   },
   "file_extension": ".py",
   "mimetype": "text/x-python",
   "name": "python",
   "nbconvert_exporter": "python",
   "pygments_lexer": "ipython3",
   "version": "3.7.4"
  }
 },
 "nbformat": 4,
 "nbformat_minor": 2
}
